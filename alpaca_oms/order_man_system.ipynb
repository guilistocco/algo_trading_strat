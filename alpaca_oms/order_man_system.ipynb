{
 "cells": [
  {
   "cell_type": "code",
   "execution_count": null,
   "id": "6d3e91d3",
   "metadata": {},
   "outputs": [],
   "source": []
  },
  {
   "cell_type": "code",
   "execution_count": 1,
   "id": "0f818ab7",
   "metadata": {},
   "outputs": [
    {
     "name": "stdout",
     "output_type": "stream",
     "text": [
      "Empty DataFrame\n",
      "Columns: []\n",
      "Index: []\n",
      "Ordem enviada: 26a553c3-7f5c-4240-b2c7-0089e95fc4cf\n",
      "Holding 2 shares of AAPL\n"
     ]
    }
   ],
   "source": [
    "# main.py\n",
    "\n",
    "from market_data import MarketData\n",
    "from order_handler import OrderHandler\n",
    "from position_manager import PositionManager\n",
    "import pandas as pd\n",
    "\n",
    "md = MarketData()\n",
    "\n",
    "oh = OrderHandler()\n",
    "pm = PositionManager()\n",
    "\n",
    "\n",
    "symbol = \"AAPL\"\n",
    "\n",
    "# Consultar preço\n",
    "print(md.get_bars(symbol, limit=5))\n",
    "\n",
    "# Comprar\n",
    "order = oh.send_market_order(symbol, qty=1, side=\"buy\")\n",
    "print(\"Ordem enviada:\", order.id)\n",
    "\n",
    "# Posição\n",
    "pos = pm.get_position(symbol)\n",
    "if pos:\n",
    "    print(f\"Holding {pos.qty} shares of {symbol}\")"
   ]
  },
  {
   "cell_type": "code",
   "execution_count": 2,
   "metadata": {},
   "outputs": [
    {
     "ename": "TypeError",
     "evalue": "TradingClient.get_orders() got an unexpected keyword argument 'status'",
     "output_type": "error",
     "traceback": [
      "\u001b[0;31m---------------------------------------------------------------------------\u001b[0m",
      "\u001b[0;31mTypeError\u001b[0m                                 Traceback (most recent call last)",
      "Cell \u001b[0;32mIn[2], line 1\u001b[0m\n\u001b[0;32m----> 1\u001b[0m \u001b[43moh\u001b[49m\u001b[38;5;241;43m.\u001b[39;49m\u001b[43mlist_open_orders\u001b[49m\u001b[43m(\u001b[49m\u001b[43m)\u001b[49m\n",
      "File \u001b[0;32m~/Trabalho_Final/trading_strategy/alpaca_oms/order_handler.py:25\u001b[0m, in \u001b[0;36mOrderHandler.list_open_orders\u001b[0;34m(self)\u001b[0m\n\u001b[1;32m     24\u001b[0m \u001b[38;5;28;01mdef\u001b[39;00m\u001b[38;5;250m \u001b[39m\u001b[38;5;21mlist_open_orders\u001b[39m(\u001b[38;5;28mself\u001b[39m):\n\u001b[0;32m---> 25\u001b[0m     \u001b[38;5;28;01mreturn\u001b[39;00m \u001b[38;5;28;43mself\u001b[39;49m\u001b[38;5;241;43m.\u001b[39;49m\u001b[43mclient\u001b[49m\u001b[38;5;241;43m.\u001b[39;49m\u001b[43mget_orders\u001b[49m\u001b[43m(\u001b[49m\u001b[43mstatus\u001b[49m\u001b[38;5;241;43m=\u001b[39;49m\u001b[38;5;124;43m\"\u001b[39;49m\u001b[38;5;124;43mopen\u001b[39;49m\u001b[38;5;124;43m\"\u001b[39;49m\u001b[43m)\u001b[49m\n",
      "\u001b[0;31mTypeError\u001b[0m: TradingClient.get_orders() got an unexpected keyword argument 'status'"
     ]
    }
   ],
   "source": [
    "oh.list_open_orders()"
   ]
  },
  {
   "cell_type": "code",
   "execution_count": 4,
   "metadata": {},
   "outputs": [
    {
     "ename": "ModuleNotFoundError",
     "evalue": "No module named 'alpaca_oms'",
     "output_type": "error",
     "traceback": [
      "\u001b[0;31m---------------------------------------------------------------------------\u001b[0m",
      "\u001b[0;31mModuleNotFoundError\u001b[0m                       Traceback (most recent call last)",
      "Cell \u001b[0;32mIn[4], line 1\u001b[0m\n\u001b[0;32m----> 1\u001b[0m \u001b[38;5;28;01mfrom\u001b[39;00m\u001b[38;5;250m \u001b[39m\u001b[38;5;21;01malpaca_oms\u001b[39;00m\u001b[38;5;21;01m.\u001b[39;00m\u001b[38;5;21;01malpaca_client\u001b[39;00m\u001b[38;5;250m \u001b[39m\u001b[38;5;28;01mimport\u001b[39;00m get_trading_client, get_data_client\n",
      "\u001b[0;31mModuleNotFoundError\u001b[0m: No module named 'alpaca_oms'"
     ]
    }
   ],
   "source": [
    "from alpaca_oms.alpaca_client import get_trading_client, get_data_client"
   ]
  },
  {
   "cell_type": "code",
   "execution_count": null,
   "metadata": {},
   "outputs": [],
   "source": []
  }
 ],
 "metadata": {
  "kernelspec": {
   "display_name": "trading_env",
   "language": "python",
   "name": "python3"
  },
  "language_info": {
   "codemirror_mode": {
    "name": "ipython",
    "version": 3
   },
   "file_extension": ".py",
   "mimetype": "text/x-python",
   "name": "python",
   "nbconvert_exporter": "python",
   "pygments_lexer": "ipython3",
   "version": "3.10.8"
  }
 },
 "nbformat": 4,
 "nbformat_minor": 5
}
